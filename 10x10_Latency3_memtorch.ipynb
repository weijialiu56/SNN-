{
 "cells": [
  {
   "cell_type": "code",
   "execution_count": 1,
   "id": "133f5493",
   "metadata": {
    "ExecuteTime": {
     "end_time": "2022-07-04T21:10:11.187569Z",
     "start_time": "2022-07-04T21:10:08.250181Z"
    }
   },
   "outputs": [],
   "source": [
    "import snntorch as snn\n",
    "from snntorch import utils\n",
    "from snntorch import spikegen\n",
    "from snntorch import spikeplot as splt\n",
    "from snntorch import functional as SF\n",
    "\n",
    "\n",
    "import torch\n",
    "import torch.nn as nn\n",
    "from torch.utils.data import DataLoader\n",
    "from torchvision import datasets, transforms\n",
    "\n",
    "import matplotlib.pyplot as plt\n",
    "import numpy as np\n",
    "from IPython.display import HTML\n"
   ]
  },
  {
   "cell_type": "code",
   "execution_count": 3,
   "id": "afbc6bfe",
   "metadata": {
    "ExecuteTime": {
     "end_time": "2022-07-04T21:14:23.141646Z",
     "start_time": "2022-07-04T21:14:21.886035Z"
    }
   },
   "outputs": [
    {
     "name": "stdout",
     "output_type": "stream",
     "text": [
      "The size of test_set is 4157\n",
      "Test Set Accuracy: \t96.30%\n"
     ]
    }
   ],
   "source": [
    "# DataLoader Arguments\n",
    "batch_size = 128\n",
    "data_path = '/data/mnist'\n",
    "\n",
    "dtype = torch.float\n",
    "#device = torch.device(\"cuda\") if torch.cuda.is_available() else torch.device(\"cpu\")\n",
    "\n",
    "# Select Dataset and define Transform\n",
    "transform = transforms.Compose([transforms.Resize((10, 10)),\n",
    "                                transforms.Grayscale(),\n",
    "                                transforms.ToTensor(),\n",
    "                                transforms.Normalize((0,), (1,))])\n",
    "\n",
    "mnist_test = datasets.MNIST(data_path, train=False, download=True, transform=transform)\n",
    "indices = (mnist_test.targets == 0) | (mnist_test.targets == 1) | (mnist_test.targets == 2) | (mnist_test.targets == 3) \n",
    "mnist_test.data, mnist_test.targets = mnist_test.data[indices], mnist_test.targets[indices]\n",
    "\n",
    "print(f\"The size of test_set is {len(mnist_test)}\")      # 4157\n",
    "\n",
    "# Create DataLoaders, load multiple samples up into memory in batches\n",
    "test_loader = DataLoader(mnist_test, batch_size=batch_size, shuffle=True, drop_last=False)\n",
    "\n",
    "\n",
    "# Network Architecture: 100 - 200 - 4\n",
    "num_inputs = 10*10  \n",
    "num_hidden = 200\n",
    "num_outputs = 4   # 4 outputs classes: 0, 1, 2, 3\n",
    "\n",
    "# Temporal Dynamics\n",
    "num_steps = 10      # run for 10 time steps\n",
    "beta = 0.95 \n",
    "\n",
    "\n",
    "# Define the network\n",
    "class Net(nn.Module):\n",
    "    def __init__(self):\n",
    "        super().__init__()\n",
    "        \n",
    "        # Initialize layers\n",
    "        # Input: Latency_spike X[t] and U[t-1], Neuron output: Spike S[t] and U[t]  \n",
    "        self.fc1 = nn.Linear(num_inputs, num_hidden)\n",
    "        self.lif1 = snn.Leaky(beta=beta, threshold=0.2)  \n",
    "        self.fc2 = nn.Linear(num_hidden, num_outputs)\n",
    "        self.lif2 = snn.Leaky(beta=beta, threshold=0.2)\n",
    "        \n",
    "    def forward(self, x):\n",
    "        \n",
    "        # Initialize hidden states at t=0\n",
    "        mem1 = self.lif1.init_leaky()\n",
    "        mem2 = self.lif2.init_leaky()\n",
    "        \n",
    "        # Record the finial laye\n",
    "        spk2_rec = []\n",
    "        mem2_rec = []\n",
    "        \n",
    "        spike_data = spikegen.latency(x, num_steps=num_steps, threshold=0.001, clip=True, normalize=True, linear=True) \n",
    "        for latency_data in spike_data:\n",
    "            cur1 = self.fc1(latency_data)          # Spike[t] x weight --> post-synaptic current\n",
    "            spk1, mem1 = self.lif1(cur1, mem1)   # post-syn current + decayed membrane --> mem[t+1]\n",
    "            cur2 = self.fc2(spk1)\n",
    "            spk2, mem2 = self.lif2(cur2, mem2)\n",
    "            spk2_rec.append(spk2)\n",
    "            mem2_rec.append(mem2)\n",
    "        \n",
    "        # Convert lists to tensors: Concatenates a sequence of tensors along a new dimension(time).\n",
    "        return torch.stack(spk2_rec, dim=0), torch.stack(mem2_rec, dim=0)\n",
    "    \n",
    "def test(net, test_loader):\n",
    "    total = 0\n",
    "    correct = 0\n",
    "\n",
    "    with torch.no_grad():\n",
    "        net.eval()\n",
    "        for data, targets in test_loader:\n",
    "            # forward pass\n",
    "            test_spk, _ = net(data.reshape(data.size(0), -1))\n",
    "\n",
    "            # calculate total accuracy\n",
    "            _, predicted = test_spk.cpu().sum(dim=0).max(1)\n",
    "            total += targets.size(0)\n",
    "            correct += (predicted == targets).cpu().sum().item()\n",
    "        \n",
    "        return 100. * float(correct) / float(total)\n",
    "    \n",
    "net = Net()\n",
    "try:\n",
    "    net.load_state_dict(torch.load('10x10_Latency3.pt'), strict=False)   # strict=False: ignore non-matching keys\n",
    "    net.eval()\n",
    "except:\n",
    "    raise Exception('10x10_Latency3.pt has not been found.')\n",
    "    \n",
    "print('Test Set Accuracy: \\t%2.2f%%' % test(net, test_loader))"
   ]
  },
  {
   "cell_type": "code",
   "execution_count": 4,
   "id": "5f534848",
   "metadata": {
    "ExecuteTime": {
     "end_time": "2022-07-04T21:15:10.606120Z",
     "start_time": "2022-07-04T21:15:09.293631Z"
    }
   },
   "outputs": [
    {
     "name": "stdout",
     "output_type": "stream",
     "text": [
      "96.2954053403897\n"
     ]
    }
   ],
   "source": [
    "print(test(net, test_loader))"
   ]
  },
  {
   "cell_type": "code",
   "execution_count": 9,
   "id": "39d54e23",
   "metadata": {
    "ExecuteTime": {
     "end_time": "2022-07-04T21:23:11.096742Z",
     "start_time": "2022-07-04T21:23:00.829099Z"
    }
   },
   "outputs": [
    {
     "name": "stdout",
     "output_type": "stream",
     "text": [
      "Patched Linear(in_features=100, out_features=200, bias=True) -> bh.Linear(in_features=100, out_features=200, bias=True)\n",
      "Patched Linear(in_features=200, out_features=4, bias=True) -> bh.Linear(in_features=200, out_features=4, bias=True)\n"
     ]
    }
   ],
   "source": [
    "import memtorch\n",
    "import copy\n",
    "from memtorch.mn.Module import patch_model\n",
    "from memtorch.map.Input import naive_scale\n",
    "from memtorch.map.Parameter import naive_map   # weights within torch.nn.Linear layers to equivalent conductance values\n",
    "\n",
    "reference_memristor = memtorch.bh.memristor.Stanford_PKU\n",
    "reference_memristor_params = {'time_series_resolution': 5e-4}\n",
    "memristor = reference_memristor(**reference_memristor_params) \n",
    "\n",
    "net = Net()\n",
    "net.load_state_dict(torch.load('10x10_Latency3.pt'), strict=False)   # strict=False: ignore non-matching keys\n",
    "    \n",
    "patched_model = patch_model(copy.deepcopy(net),\n",
    "                            memristor_model=reference_memristor,\n",
    "                            memristor_model_params=reference_memristor_params,\n",
    "                            module_parameters_to_patch=[torch.nn.Linear],\n",
    "                            mapping_routine=naive_map,\n",
    "                            transistor=True,\n",
    "                            programming_routine=None,\n",
    "                            max_input_voltage=0.3,\n",
    "                            scaling_routine=naive_scale,    # Naive method to encode input values as bit-line voltages.\n",
    "                            ADC_resolution=8,\n",
    "                            ADC_overflow_rate=0.,\n",
    "                            quant_method='linear')"
   ]
  },
  {
   "cell_type": "code",
   "execution_count": 10,
   "id": "9e6f6379",
   "metadata": {
    "ExecuteTime": {
     "end_time": "2022-07-04T21:23:18.119435Z",
     "start_time": "2022-07-04T21:23:17.813256Z"
    }
   },
   "outputs": [
    {
     "name": "stdout",
     "output_type": "stream",
     "text": [
      "Tuned bh.Linear(in_features=100, out_features=200, bias=True). Coefficient of determination: 0.999777 [856.513550, -0.000006]\n",
      "Tuned bh.Linear(in_features=200, out_features=4, bias=True). Coefficient of determination: 0.999766 [590.764526, -0.000042]\n"
     ]
    }
   ],
   "source": [
    "patched_model.tune_()  # Method to determine a linear relationship between a memristive crossbar and the output for a given memristive module."
   ]
  },
  {
   "cell_type": "markdown",
   "id": "55f9046e",
   "metadata": {},
   "source": [
    "### The converted and tuned MSNN is benchmarked using the MNIST test data set. "
   ]
  },
  {
   "cell_type": "code",
   "execution_count": 11,
   "id": "6736a601",
   "metadata": {
    "ExecuteTime": {
     "end_time": "2022-07-04T21:23:24.807346Z",
     "start_time": "2022-07-04T21:23:20.653329Z"
    }
   },
   "outputs": [
    {
     "name": "stdout",
     "output_type": "stream",
     "text": [
      "96.43974019725763\n"
     ]
    }
   ],
   "source": [
    "print(test(patched_model, test_loader))"
   ]
  },
  {
   "cell_type": "code",
   "execution_count": 12,
   "id": "a6ed23b6",
   "metadata": {
    "ExecuteTime": {
     "end_time": "2022-07-04T21:23:40.403456Z",
     "start_time": "2022-07-04T21:23:38.934491Z"
    }
   },
   "outputs": [
    {
     "data": {
      "image/png": "[encoded data removed]",
      "text/plain": [
       "<Figure size 432x288 with 1 Axes>"
      ]
     },
     "metadata": {
      "needs_background": "light"
     },
     "output_type": "display_data"
    },
    {
     "data": {
      "image/png": "[encoded data removed]",
      "text/plain": [
       "<Figure size 432x288 with 1 Axes>"
      ]
     },
     "metadata": {
      "needs_background": "light"
     },
     "output_type": "display_data"
    }
   ],
   "source": [
    "# Reference memristor model\n",
    "\n",
    "reference_memristor = memtorch.bh.memristor.Stanford_PKU\n",
    "reference_memristor_params = {'time_series_resolution': 5e-4}\n",
    "memristor = reference_memristor(**reference_memristor_params)   \n",
    "memristor.plot_hysteresis_loop()\n",
    "memristor.plot_bipolar_switching_behaviour()\n",
    "\n",
    "# **: when define the function, put all keyword arguments into a dictionary for the function to use\n",
    "#     when call the function, turn the dictionary's key-value pairs into keyword arguments"
   ]
  },
  {
   "cell_type": "code",
   "execution_count": null,
   "id": "73505882",
   "metadata": {},
   "outputs": [],
   "source": []
  }
 ],
 "metadata": {
  "kernelspec": {
   "display_name": "Python 3 (ipykernel)",
   "language": "python",
   "name": "python3"
  },
  "language_info": {
   "codemirror_mode": {
    "name": "ipython",
    "version": 3
   },
   "file_extension": ".py",
   "mimetype": "text/x-python",
   "name": "python",
   "nbconvert_exporter": "python",
   "pygments_lexer": "ipython3",
   "version": "3.9.12"
  }
 },
 "nbformat": 4,
 "nbformat_minor": 5
}
