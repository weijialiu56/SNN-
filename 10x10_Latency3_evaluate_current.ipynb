{
 "cells": [
  {
   "cell_type": "code",
   "execution_count": 1,
   "id": "8b1a0c50",
   "metadata": {
    "ExecuteTime": {
     "end_time": "2022-07-05T00:04:50.326788Z",
     "start_time": "2022-07-05T00:04:48.846183Z"
    }
   },
   "outputs": [],
   "source": [
    "import snntorch as snn\n",
    "from snntorch import utils\n",
    "from snntorch import spikegen\n",
    "from snntorch import spikeplot as splt\n",
    "from snntorch import functional as SF\n",
    "\n",
    "\n",
    "import torch\n",
    "import torch.nn as nn\n",
    "from torch.utils.data import DataLoader\n",
    "from torchvision import datasets, transforms\n",
    "\n",
    "import matplotlib.pyplot as plt\n",
    "import numpy as np\n",
    "from IPython.display import HTML\n",
    "from celluloid import Camera"
   ]
  },
  {
   "cell_type": "code",
   "execution_count": 2,
   "id": "c6685e6a",
   "metadata": {
    "ExecuteTime": {
     "end_time": "2022-07-05T00:05:02.269229Z",
     "start_time": "2022-07-05T00:05:02.177448Z"
    }
   },
   "outputs": [
    {
     "name": "stdout",
     "output_type": "stream",
     "text": [
      "The size of train_set is 24754\n",
      "The size of test_set is 4157\n"
     ]
    }
   ],
   "source": [
    "# DataLoader Arguments\n",
    "batch_size = 128\n",
    "data_path = '/data/mnist'\n",
    "\n",
    "dtype = torch.float\n",
    "#device = torch.device(\"cuda\") if torch.cuda.is_available() else torch.device(\"cpu\")\n",
    "\n",
    "# Select Dataset and define Transform\n",
    "transform = transforms.Compose([transforms.Resize((10, 10)),\n",
    "                                transforms.Grayscale(),\n",
    "                                transforms.ToTensor(),\n",
    "                                transforms.Normalize((0,), (1,))])\n",
    "\n",
    "mnist_train = datasets.MNIST(data_path, train=True, download=True, transform=transform)\n",
    "indices = (mnist_train.targets == 0) | (mnist_train.targets == 1) | (mnist_train.targets == 2) | (mnist_train.targets == 3) \n",
    "mnist_train.data, mnist_train.targets = mnist_train.data[indices], mnist_train.targets[indices]\n",
    "\n",
    "mnist_test = datasets.MNIST(data_path, train=False, download=True, transform=transform)\n",
    "indices = (mnist_test.targets == 0) | (mnist_test.targets == 1) | (mnist_test.targets == 2) | (mnist_test.targets == 3) \n",
    "mnist_test.data, mnist_test.targets = mnist_test.data[indices], mnist_test.targets[indices]\n",
    "\n",
    "print(f\"The size of train_set is {len(mnist_train)}\")    # 24754\n",
    "print(f\"The size of test_set is {len(mnist_test)}\")      # 4157\n",
    "\n",
    "# Create DataLoaders, load multiple samples up into memory in batches\n",
    "train_loader = DataLoader(mnist_train, batch_size=batch_size, shuffle=True, drop_last=True)\n",
    "test_loader = DataLoader(mnist_test, batch_size=batch_size, shuffle=True, drop_last=True)"
   ]
  },
  {
   "cell_type": "code",
   "execution_count": 9,
   "id": "48485703",
   "metadata": {
    "ExecuteTime": {
     "end_time": "2022-07-05T00:19:04.289370Z",
     "start_time": "2022-07-05T00:19:04.271421Z"
    }
   },
   "outputs": [],
   "source": [
    "# Network Architecture: 100 - 200 - 4\n",
    "num_inputs = 10*10  \n",
    "num_hidden = 200\n",
    "num_outputs = 4   # 4 outputs classes: 0, 1, 2, 3\n",
    "\n",
    "# Temporal Dynamics\n",
    "num_steps = 10      # run for 10 time steps\n",
    "beta = 0.95 \n",
    "\n",
    "# Define the network\n",
    "class Net(nn.Module):\n",
    "    def __init__(self):\n",
    "        super().__init__()\n",
    "        \n",
    "        # Initialize layers\n",
    "        # Input: Latency_spike X[t] and U[t-1], Neuron output: Spike S[t] and U[t]  \n",
    "        self.fc1 = nn.Linear(num_inputs, num_hidden)\n",
    "        self.lif1 = snn.Leaky(beta=beta, threshold=0.2)  \n",
    "        self.fc2 = nn.Linear(num_hidden, num_outputs)\n",
    "        self.lif2 = snn.Leaky(beta=beta, threshold=0.2)\n",
    "        \n",
    "    def forward(self, x):\n",
    "        \n",
    "        # Initialize hidden states at t=0\n",
    "        mem1 = self.lif1.init_leaky()\n",
    "        mem2 = self.lif2.init_leaky()\n",
    "        \n",
    "        # Record the finial laye\n",
    "        cur1_rec = []\n",
    "        cur2_rec = []\n",
    "        spk2_rec = []\n",
    "        mem2_rec = []\n",
    "        \n",
    "        spike_data = spikegen.latency(x, num_steps=num_steps, threshold=0.001, clip=True, normalize=True, linear=True) \n",
    "        for latency_data in spike_data:\n",
    "            cur1 = self.fc1(latency_data)          # Spike[t] x weight --> post-synaptic current\n",
    "            spk1, mem1 = self.lif1(cur1, mem1)   # post-syn current + decayed membrane --> mem[t+1]\n",
    "            cur2 = self.fc2(spk1)\n",
    "            spk2, mem2 = self.lif2(cur2, mem2)\n",
    "#             cur1_rec.append(cur1)            \n",
    "            cur2_rec.append(cur2)\n",
    "            spk2_rec.append(spk2)\n",
    "#             mem2_rec.append(mem2)\n",
    "        \n",
    "        # Convert lists to tensors: Concatenates a sequence of tensors along a new dimension(time).\n",
    "        return torch.stack(spk2_rec, dim=0), torch.stack(cur2_rec, dim=0)\n",
    "    \n",
    "net = Net()"
   ]
  },
  {
   "cell_type": "code",
   "execution_count": 10,
   "id": "25ea6034",
   "metadata": {
    "ExecuteTime": {
     "end_time": "2022-07-05T00:19:06.390619Z",
     "start_time": "2022-07-05T00:19:06.378199Z"
    }
   },
   "outputs": [],
   "source": [
    "# pass data into the network, sum the spikes_output over time and compare the neuron with the highest number of spikes with the target\n",
    "def print_batch_accuracy(data, targets, train=True):\n",
    "    output, _ = net(data.reshape(batch_size, -1))\n",
    "    _, idx = output.sum(dim=0).max(1)                       # max(1):return the max value and indices of each row\n",
    "    acc = np.mean((targets == idx).detach().cpu().numpy())\n",
    "    \n",
    "    if train:\n",
    "        print(f\"Train set accuracy for single minibatch: {acc*100: .2f}%\")\n",
    "    else:\n",
    "        print(f\"Test set accuracy for single minibatch: {acc*100: .2f}%\")\n",
    "        \n",
    "    return acc*100"
   ]
  },
  {
   "cell_type": "code",
   "execution_count": 11,
   "id": "41bfbcad",
   "metadata": {
    "ExecuteTime": {
     "end_time": "2022-07-05T00:19:09.430436Z",
     "start_time": "2022-07-05T00:19:09.417472Z"
    }
   },
   "outputs": [
    {
     "data": {
      "text/plain": [
       "<All keys matched successfully>"
      ]
     },
     "execution_count": 11,
     "metadata": {},
     "output_type": "execute_result"
    }
   ],
   "source": [
    "net = Net()\n",
    "net.load_state_dict(torch.load('10x10_Latency3.pt'), strict=False)   # strict=False: ignore non-matching keys"
   ]
  },
  {
   "cell_type": "code",
   "execution_count": 12,
   "id": "afc4bcb9",
   "metadata": {
    "ExecuteTime": {
     "end_time": "2022-07-05T00:19:32.481730Z",
     "start_time": "2022-07-05T00:19:31.297898Z"
    }
   },
   "outputs": [
    {
     "name": "stdout",
     "output_type": "stream",
     "text": [
      "Total correctly classified test set images: 4003/4157\n",
      "Test Set Accuracy: 96.30%\n"
     ]
    }
   ],
   "source": [
    "# ### Test set accuracy\n",
    "\n",
    "total = 0\n",
    "correct = 0\n",
    "\n",
    "# drop_last switched to False to keep all samples\n",
    "test_loader = DataLoader(mnist_test, batch_size=batch_size, shuffle=True, drop_last=False)\n",
    "\n",
    "with torch.no_grad():\n",
    "    net.eval()\n",
    "    for data, targets in test_loader:\n",
    "        # forward pass\n",
    "        test_spk, cur2_rec = net(data.reshape(data.size(0), -1))\n",
    "\n",
    "        # calculate total accuracy\n",
    "        _, predicted = test_spk.sum(dim=0).max(1)\n",
    "        total += targets.size(0)\n",
    "        correct += (predicted == targets).sum().item()\n",
    "        \n",
    "print(f\"Total correctly classified test set images: {correct}/{total}\")\n",
    "print(f\"Test Set Accuracy: {100 * correct / total:.2f}%\")"
   ]
  },
  {
   "cell_type": "code",
   "execution_count": 13,
   "id": "788a3691",
   "metadata": {
    "ExecuteTime": {
     "end_time": "2022-07-05T00:21:20.762457Z",
     "start_time": "2022-07-05T00:21:20.601880Z"
    }
   },
   "outputs": [
    {
     "name": "stdout",
     "output_type": "stream",
     "text": [
      "torch.Size([10, 61, 4])\n"
     ]
    },
    {
     "data": {
      "image/png": "[encoded data removed]",
      "text/plain": [
       "<Figure size 432x288 with 4 Axes>"
      ]
     },
     "metadata": {
      "needs_background": "light"
     },
     "output_type": "display_data"
    }
   ],
   "source": [
    "#  mem_rec contains the traces of 4 neuron membrane potentials across 10 time steps in duration\n",
    "print(cur2_rec.size())\n",
    "\n",
    "#  Plot\n",
    "splt.traces(cur2_rec, dim=(1, 4))"
   ]
  },
  {
   "cell_type": "code",
   "execution_count": 15,
   "id": "93efd38e",
   "metadata": {
    "ExecuteTime": {
     "end_time": "2022-07-05T00:23:26.800106Z",
     "start_time": "2022-07-05T00:23:26.793119Z"
    }
   },
   "outputs": [
    {
     "name": "stdout",
     "output_type": "stream",
     "text": [
      "torch.Size([10, 4])\n"
     ]
    }
   ],
   "source": [
    "cur_results = cur2_rec[:, 0, :].to('cpu')\n",
    "print(cur_results.size())"
   ]
  },
  {
   "cell_type": "code",
   "execution_count": 16,
   "id": "2847a70b",
   "metadata": {
    "ExecuteTime": {
     "end_time": "2022-07-05T00:24:43.600204Z",
     "start_time": "2022-07-05T00:24:43.449593Z"
    }
   },
   "outputs": [
    {
     "data": {
      "image/png": "[encoded data removed]",
      "text/plain": [
       "<Figure size 432x288 with 4 Axes>"
      ]
     },
     "metadata": {
      "needs_background": "light"
     },
     "output_type": "display_data"
    }
   ],
   "source": [
    "splt.traces(cur_results, dim=(1, 4))"
   ]
  },
  {
   "cell_type": "code",
   "execution_count": 28,
   "id": "dc6ac109",
   "metadata": {
    "ExecuteTime": {
     "end_time": "2022-07-05T00:40:20.155553Z",
     "start_time": "2022-07-05T00:40:20.137629Z"
    }
   },
   "outputs": [],
   "source": [
    "def plot_cur_spk(cur, spk, title=False):\n",
    "  # Generate Plots\n",
    "  fig, ax = plt.subplots(2, figsize=(8,6), sharex=True, \n",
    "                        gridspec_kw = {'height_ratios': [1, 1]})\n",
    "\n",
    "  # Plot Output current\n",
    "  ax[0].plot(cur, c=\"tab:orange\")\n",
    "  ax[0].set_yticks([])\n",
    "  ax[0].set_xlim([0, 9])\n",
    "  ax[0].set_ylabel(\"Output Current ($I_{in}$)\")\n",
    "  if title:\n",
    "    ax[0].set_title(title)\n",
    "  plt.xlabel(\"Time step\")\n",
    "\n",
    "  # Plot output spike using spikeplot\n",
    "  splt.raster(spk, ax[1], s=400, c=\"black\", marker=\"|\")\n",
    "  plt.ylabel(\"Output spikes\")\n",
    "  ax[1].set_ylim([0, 3]) \n",
    "\n",
    "  plt.show()"
   ]
  },
  {
   "cell_type": "code",
   "execution_count": 29,
   "id": "94075d93",
   "metadata": {
    "ExecuteTime": {
     "end_time": "2022-07-05T00:40:20.983383Z",
     "start_time": "2022-07-05T00:40:20.783918Z"
    }
   },
   "outputs": [
    {
     "data": {
      "image/png": "[encoded data removed]",
      "text/plain": [
       "<Figure size 576x432 with 2 Axes>"
      ]
     },
     "metadata": {
      "needs_background": "light"
     },
     "output_type": "display_data"
    }
   ],
   "source": [
    "plot_cur_spk(cur_results, test_spk[:, 0, :].to('cpu'), title=\"\")"
   ]
  },
  {
   "cell_type": "code",
   "execution_count": 30,
   "id": "d819d1c4",
   "metadata": {
    "ExecuteTime": {
     "end_time": "2022-07-05T00:42:20.363550Z",
     "start_time": "2022-07-05T00:42:20.344599Z"
    }
   },
   "outputs": [
    {
     "name": "stdout",
     "output_type": "stream",
     "text": [
      "tensor(2)\n"
     ]
    }
   ],
   "source": [
    "print(targets[0])"
   ]
  },
  {
   "cell_type": "code",
   "execution_count": null,
   "id": "57a63794",
   "metadata": {},
   "outputs": [],
   "source": []
  }
 ],
 "metadata": {
  "kernelspec": {
   "display_name": "Python 3 (ipykernel)",
   "language": "python",
   "name": "python3"
  },
  "language_info": {
   "codemirror_mode": {
    "name": "ipython",
    "version": 3
   },
   "file_extension": ".py",
   "mimetype": "text/x-python",
   "name": "python",
   "nbconvert_exporter": "python",
   "pygments_lexer": "ipython3",
   "version": "3.9.12"
  }
 },
 "nbformat": 4,
 "nbformat_minor": 5
}
