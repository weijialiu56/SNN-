{
 "cells": [
  {
   "cell_type": "markdown",
   "id": "db11c1cd",
   "metadata": {},
   "source": [
    "## 1.  Define the Mnist-SNN Network Architecture "
   ]
  },
  {
   "cell_type": "code",
   "execution_count": 41,
   "id": "526c4bdd",
   "metadata": {},
   "outputs": [
    {
     "name": "stdout",
     "output_type": "stream",
     "text": [
      "Test Set Accuracy: \t91.89%\n"
     ]
    }
   ],
   "source": [
    "import snntorch as snn\n",
    "\n",
    "import torch\n",
    "import torch.nn as nn\n",
    "from torch.autograd import Variable\n",
    "from torch.utils.data import DataLoader\n",
    "from torchvision import datasets, transforms\n",
    "\n",
    "import matplotlib.pyplot as plt\n",
    "import numpy as np\n",
    "\n",
    "\n",
    "# DataLoader Arguments\n",
    "batch_size = 128\n",
    "data_path = '/data/mnist'\n",
    "\n",
    "dtype = torch.float\n",
    "# device = torch.device(\"cuda\") if torch.cuda.is_available() else torch.device(\"cpu\")\n",
    "\n",
    "# Select Dataset and define Transform\n",
    "transform = transforms.Compose([transforms.Resize((10, 10)),\n",
    "                                transforms.Grayscale(),\n",
    "                                transforms.ToTensor(),\n",
    "                                transforms.Normalize((0,), (1,))])\n",
    "\n",
    "mnist_test = datasets.MNIST(data_path, train=False, download=True, transform=transform)\n",
    "indices = (mnist_test.targets == 0) | (mnist_test.targets == 1) | (mnist_test.targets == 2) | (mnist_test.targets == 3) \n",
    "mnist_test.data, mnist_test.targets = mnist_test.data[indices], mnist_test.targets[indices]\n",
    "\n",
    "# print(f\"The size of test_set is {len(mnist_test)}\")      # 4157\n",
    "\n",
    "# Create DataLoaders, load multiple samples up into memory in batches\n",
    "test_loader = DataLoader(mnist_test, batch_size=batch_size, shuffle=True, drop_last=False)\n",
    "\n",
    "# Define the network\n",
    "num_inputs = 10*10  \n",
    "num_hidden = 200\n",
    "num_outputs = 4   # 4 outputs classes: 0, 1, 2, 3\n",
    "\n",
    "# Temporal Dynamics\n",
    "num_steps = 10      # run for 10 time steps\n",
    "beta = 0.95 \n",
    "\n",
    "class Net(nn.Module):\n",
    "    def __init__(self):\n",
    "        super().__init__()\n",
    "        \n",
    "        # Initialize layers\n",
    "        # Neuron input: Spik_in W x X[t] and U[t-1], Neuron output: Spike S[t] and U[t]\n",
    "        self.lif1 = snn.Leaky(beta=beta, threshold=0.001)  # Threshold=0.001: each raw image pixel value greater than 0 corresponds to a spike\n",
    "        self.fc1 = nn.Linear(num_inputs, num_hidden)\n",
    "        self.lif2 = snn.Leaky(beta=beta, threshold=0.1)  \n",
    "        self.fc2 = nn.Linear(num_hidden, num_outputs)\n",
    "        self.lif3 = snn.Leaky(beta=beta, threshold=0.7)\n",
    "        \n",
    "    def forward(self, x):\n",
    "        \n",
    "        # Initialize hidden states at t=0\n",
    "        mem1 = self.lif1.init_leaky()\n",
    "        mem2 = self.lif2.init_leaky()\n",
    "        mem3 = self.lif3.init_leaky()\n",
    "        \n",
    "        # Record the finial laye\n",
    "#         spk1_rec = []\n",
    "#         mem1_rec = []\n",
    "#         spk2_rec = []\n",
    "#         mem2_rec = []\n",
    "        spk3_rec = []\n",
    "        mem3_rec = []\n",
    "        \n",
    "        for step in range(num_steps):\n",
    "            spk1, mem1 = self.lif1(x, mem1)            # analog signal --> spike X[t]\n",
    "            cur1 = self.fc1(spk1)                   # X[t] x weight --> post-synaptic current\n",
    "            spk2, mem2 = self.lif2(cur1, mem2)   # post-syn current + decayed membrane --> mem[t+1]\n",
    "            cur2 = self.fc2(spk2)\n",
    "            spk3, mem3 = self.lif2(cur2, mem3)\n",
    "            spk3_rec.append(spk3)\n",
    "            mem3_rec.append(mem3)\n",
    "        \n",
    "        # Convert lists to tensors: Concatenates a sequence of tensors along a new dimension(time).\n",
    "        return torch.stack(spk3_rec, dim=0), torch.stack(mem3_rec, dim=0)\n",
    "\n",
    "def test(net, test_loader):\n",
    "    total = 0\n",
    "    correct = 0\n",
    "\n",
    "    with torch.no_grad():\n",
    "        net.eval()\n",
    "        for data, targets in test_loader:\n",
    "            # forward pass\n",
    "            test_spk, _ = net(data.view(data.size(0), -1))\n",
    "\n",
    "            # calculate total accuracy\n",
    "            _, predicted = test_spk.cpu().sum(dim=0).max(1)\n",
    "            total += targets.size(0)\n",
    "            correct += (predicted == targets).cpu().sum().item()\n",
    "        \n",
    "        return 100. * float(correct) / float(total)\n",
    "        \n",
    "net = Net()\n",
    "try:\n",
    "    net.load_state_dict(torch.load('new5_model.pt'), strict=False)   # strict=False: ignore non-matching keys\n",
    "    net.eval()\n",
    "except:\n",
    "    raise Exception('new5_model.pt has not been found.')\n",
    "    \n",
    "print('Test Set Accuracy: \\t%2.2f%%' % test(net, test_loader))"
   ]
  },
  {
   "cell_type": "code",
   "execution_count": 42,
   "id": "d1cb0b3c",
   "metadata": {},
   "outputs": [
    {
     "name": "stdout",
     "output_type": "stream",
     "text": [
      "91.89319220591773\n"
     ]
    }
   ],
   "source": [
    "print(test(net, test_loader))"
   ]
  },
  {
   "cell_type": "code",
   "execution_count": 57,
   "id": "b5e22bb2",
   "metadata": {},
   "outputs": [
    {
     "name": "stdout",
     "output_type": "stream",
     "text": [
      "Patched Linear(in_features=100, out_features=200, bias=True) -> bh.Linear(in_features=100, out_features=200, bias=True)\n",
      "Patched Linear(in_features=200, out_features=4, bias=True) -> bh.Linear(in_features=200, out_features=4, bias=True)\n"
     ]
    }
   ],
   "source": [
    "import memtorch\n",
    "import copy\n",
    "from memtorch.mn.Module import patch_model\n",
    "from memtorch.map.Input import naive_scale\n",
    "from memtorch.map.Parameter import naive_map   # weights within torch.nn.Linear layers to equivalent conductance values\n",
    "\n",
    "reference_memristor = memtorch.bh.memristor.Stanford_PKU\n",
    "reference_memristor_params = {'time_series_resolution': 1e-2}\n",
    "memristor = reference_memristor(**reference_memristor_params) \n",
    "\n",
    "net = Net()\n",
    "net.load_state_dict(torch.load('new5_model.pt'), strict=False)   # strict=False: ignore non-matching keys\n",
    "    \n",
    "patched_model = patch_model(copy.deepcopy(net),\n",
    "                            memristor_model=reference_memristor,\n",
    "                            memristor_model_params=reference_memristor_params,\n",
    "                            module_parameters_to_patch=[torch.nn.Linear],\n",
    "                            mapping_routine=naive_map,\n",
    "                            transistor=True,\n",
    "                            programming_routine=None,\n",
    "                            max_input_voltage=0.3,\n",
    "                            scaling_routine=naive_scale,    # Naive method to encode input values as bit-line voltages.\n",
    "                            ADC_resolution=8,\n",
    "                            ADC_overflow_rate=0.,\n",
    "                            quant_method='linear')"
   ]
  },
  {
   "cell_type": "code",
   "execution_count": 58,
   "id": "88e7cd1d",
   "metadata": {},
   "outputs": [
    {
     "name": "stdout",
     "output_type": "stream",
     "text": [
      "Tuned bh.Linear(in_features=100, out_features=200, bias=True). Coefficient of determination: 0.999696 [1002.819458, -0.000000]\n",
      "Tuned bh.Linear(in_features=200, out_features=4, bias=True). Coefficient of determination: 0.999729 [1030.828003, -0.000062]\n"
     ]
    }
   ],
   "source": [
    "patched_model.tune_()  # Method to determine a linear relationship between a memristive crossbar and the output for a given memristive module."
   ]
  },
  {
   "cell_type": "markdown",
   "id": "c6899ba7",
   "metadata": {},
   "source": [
    "### The converted and tuned MSNN is benchmarked using the MNIST test data set. "
   ]
  },
  {
   "cell_type": "code",
   "execution_count": 59,
   "id": "0d0d321a",
   "metadata": {},
   "outputs": [
    {
     "name": "stdout",
     "output_type": "stream",
     "text": [
      "91.77291315852779\n"
     ]
    }
   ],
   "source": [
    "print(test(patched_model, test_loader))"
   ]
  },
  {
   "cell_type": "code",
   "execution_count": 60,
   "id": "5b7f1acc",
   "metadata": {},
   "outputs": [
    {
     "data": {
      "image/png": "[encoded data removed]",
      "text/plain": [
       "<Figure size 432x288 with 1 Axes>"
      ]
     },
     "metadata": {
      "needs_background": "light"
     },
     "output_type": "display_data"
    },
    {
     "data": {
      "image/png": "[encoded data removed]",
      "text/plain": [
       "<Figure size 432x288 with 1 Axes>"
      ]
     },
     "metadata": {
      "needs_background": "light"
     },
     "output_type": "display_data"
    }
   ],
   "source": [
    "# Reference memristor model\n",
    "\n",
    "reference_memristor = memtorch.bh.memristor.Stanford_PKU\n",
    "reference_memristor_params = {'time_series_resolution': 1e-2}\n",
    "memristor = reference_memristor(**reference_memristor_params)   \n",
    "memristor.plot_hysteresis_loop()\n",
    "memristor.plot_bipolar_switching_behaviour()\n",
    "\n",
    "# **: when define the function, put all keyword arguments into a dictionary for the function to use\n",
    "#     when call the function, turn the dictionary's key-value pairs into keyword arguments"
   ]
  }
 ],
 "metadata": {
  "kernelspec": {
   "display_name": "Python 3 (ipykernel)",
   "language": "python",
   "name": "python3"
  },
  "language_info": {
   "codemirror_mode": {
    "name": "ipython",
    "version": 3
   },
   "file_extension": ".py",
   "mimetype": "text/x-python",
   "name": "python",
   "nbconvert_exporter": "python",
   "pygments_lexer": "ipython3",
   "version": "3.9.12"
  }
 },
 "nbformat": 4,
 "nbformat_minor": 5
}
